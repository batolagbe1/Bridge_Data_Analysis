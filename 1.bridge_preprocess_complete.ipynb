{
 "cells": [
  {
   "cell_type": "code",
   "execution_count": 91,
   "metadata": {},
   "outputs": [],
   "source": [
    "import pandas as pd\n",
    "import numpy as np\n",
    "import os"
   ]
  },
  {
   "cell_type": "code",
   "execution_count": 92,
   "metadata": {},
   "outputs": [],
   "source": [
    "columnDict = {\n",
    "              'Unnamed: 25':'State',\n",
    "              'Slab.1' : 'Slab',\n",
    "              'Stringer /Multi-Beam or Girder.1': 'MultiBeam',\n",
    "              'Girder & Floorbeam System.1': 'GirderFloorBeamSystem',\n",
    "              'Tee Beam.1': 'TeaBeam',\n",
    "              'Box Beam or Girders (Multiple).1': 'BoxBeamMultiple',\n",
    "              'Box Beam or Girders (Single or Spread).1': 'BoxBeamSingle',\n",
    "              'Frame (Except Culverts).1': 'Frame',\n",
    "              'Orthotropic.1': 'Orthotropic',\n",
    "              'Truss-Deck.1': 'TrussDeck',\n",
    "              'Truss-Thru.1': 'TrussThru',\n",
    "              'Arch-Deck.1': 'ArchDeck',\n",
    "              'Arch-Thru.1': 'ArchThru',\n",
    "              'Suspension.1': 'Suspension',\n",
    "              'Stayed Girder.1': 'StayedGirder',\n",
    "              'Movable-Lift.1': 'MovableLift',\n",
    "              'Movable-Bascule.1': 'MovableBascule',\n",
    "              'Movable-Swing.1': 'MovableSwing',\n",
    "              'Tunnel.1': 'Tunnel',\n",
    "              'Culvert.1': 'Culvert',\n",
    "              'Mixed Types.1': 'MixedTypes',\n",
    "              'Segmental Box Girder.1': 'SegmentalBoxGirder',\n",
    "              'Channel Beam.1': 'ChannelBeam',\n",
    "              'Other.1': 'Other',              \n",
    "            }"
   ]
  },
  {
   "cell_type": "code",
   "execution_count": 93,
   "metadata": {},
   "outputs": [],
   "source": [
    "sheetNames = list(map(str, range(1992,2014)))\n",
    "#sheetNames = sheetNames[20:22]"
   ]
  },
  {
   "cell_type": "code",
   "execution_count": 94,
   "metadata": {},
   "outputs": [
    {
     "data": {
      "text/plain": [
       "52"
      ]
     },
     "execution_count": 94,
     "metadata": {},
     "output_type": "execute_result"
    }
   ],
   "source": [
    "len(dataDict_total[['State']])"
   ]
  },
  {
   "cell_type": "code",
   "execution_count": 116,
   "metadata": {},
   "outputs": [
    {
     "data": {
      "text/plain": [
       "22"
      ]
     },
     "execution_count": 116,
     "metadata": {},
     "output_type": "execute_result"
    }
   ],
   "source": [
    "len(sheetNames)"
   ]
  },
  {
   "cell_type": "code",
   "execution_count": 109,
   "metadata": {},
   "outputs": [],
   "source": [
    "column_names = ['State', 'Year', 'Slab', 'MultiBeam', 'GirderFloorBeamSystem', 'TeaBeam', 'BoxBeamMultiple', 'ArchDeck', 'Culvert', \n",
    "            'TrussThru', 'Frame', 'BoxBeamSingle', 'TrussDeck']\n",
    "\n",
    "df_allYears = pd.DataFrame(columns=column_names)\n",
    "\n",
    "for sheetName in sheetNames:\n",
    "    dataDict = pd.read_excel('NBIData.xlsx', sheet_name = sheetName, header = 3, engine='openpyxl')\n",
    "    \n",
    "    # Extract the total counts\n",
    "    dataDict_total = dataDict.iloc[0:52, 25:51]\n",
    "    \n",
    "    # Extract the deficient bridge counts\n",
    "    dataDict_def = dataDict.iloc[168:220, 25:51]\n",
    "    \n",
    "    # Rename columns of the dataframe\n",
    "    dataDict_def.rename(columns = columnDict, inplace = True)\n",
    "    dataDict_total.rename(columns = columnDict, inplace = True)\n",
    "    \n",
    "    # Reset indices of the dataframe \n",
    "    dataDict_def = dataDict_def.reset_index(drop=True) \n",
    "    dataDict_total = dataDict_total.reset_index(drop=True)  \n",
    "    \n",
    "    # Convert values of dataDict_def to float\n",
    "    df_def_temp = dataDict_def.iloc[:,1:].copy().astype(float)\n",
    "    df_def_temp.dtypes\n",
    "    \n",
    "    # Convert values of dataDict_total to float\n",
    "    df_total_temp = dataDict_total.iloc[:,1:].copy().astype(float)\n",
    "    df_total_temp.dtypes\n",
    "    \n",
    "    # Compute deficiency ratio by dividing df_def by df_total\n",
    "    df_defRatio = df_def_temp / df_total_temp\n",
    "    \n",
    "    # Replace NaNs by 0 to account for data points where total count is actually 0 in the original data set\n",
    "    df_defRatio.fillna(0, inplace =True)\n",
    "    \n",
    "    # Add corresponding year to the dataframe rows\n",
    "    year = [sheetName] * len(dataDict_total[['State']])       # len(dataDict_total[['State']]) = 52\n",
    "    yearDict = pd.DataFrame(year, columns = ['Year'])\n",
    "    df_ID = pd.concat([dataDict_total[['State']], yearDict], axis = 1)\n",
    "    \n",
    "    # Add corresponding states to the dataframe rows\n",
    "    df_defRatio = pd.concat([df_ID, df_defRatio], axis = 1)\n",
    "    \n",
    "        \n",
    "    # Select important variables from df_defRatio\n",
    "    df_defRatio = df_defRatio[column_names]\n",
    "        \n",
    "    \n",
    "    # Append this dataframe to the combined dataframe\n",
    "    df_allYears = pd.concat([df_allYears, df_defRatio], axis = 0)\n",
    "\n",
    "    # Add target grade from report card\n",
    "    \n",
    "    \n",
    "    \n",
    "df_allYears.reset_index(drop = True, inplace = True)\n",
    "    "
   ]
  },
  {
   "cell_type": "code",
   "execution_count": 111,
   "metadata": {},
   "outputs": [
    {
     "data": {
      "text/html": [
       "<div>\n",
       "<style scoped>\n",
       "    .dataframe tbody tr th:only-of-type {\n",
       "        vertical-align: middle;\n",
       "    }\n",
       "\n",
       "    .dataframe tbody tr th {\n",
       "        vertical-align: top;\n",
       "    }\n",
       "\n",
       "    .dataframe thead th {\n",
       "        text-align: right;\n",
       "    }\n",
       "</style>\n",
       "<table border=\"1\" class=\"dataframe\">\n",
       "  <thead>\n",
       "    <tr style=\"text-align: right;\">\n",
       "      <th></th>\n",
       "      <th>State</th>\n",
       "      <th>Year</th>\n",
       "      <th>Slab</th>\n",
       "      <th>MultiBeam</th>\n",
       "      <th>GirderFloorBeamSystem</th>\n",
       "      <th>TeaBeam</th>\n",
       "      <th>BoxBeamMultiple</th>\n",
       "      <th>ArchDeck</th>\n",
       "      <th>Culvert</th>\n",
       "      <th>TrussThru</th>\n",
       "      <th>Frame</th>\n",
       "      <th>BoxBeamSingle</th>\n",
       "      <th>TrussDeck</th>\n",
       "    </tr>\n",
       "  </thead>\n",
       "  <tbody>\n",
       "    <tr>\n",
       "      <th>1139</th>\n",
       "      <td>WASHINGTON</td>\n",
       "      <td>2013</td>\n",
       "      <td>0.331335</td>\n",
       "      <td>0.276044</td>\n",
       "      <td>0.544119</td>\n",
       "      <td>0.338060</td>\n",
       "      <td>0.438852</td>\n",
       "      <td>0.392112</td>\n",
       "      <td>0.204236</td>\n",
       "      <td>0.514098</td>\n",
       "      <td>0.168329</td>\n",
       "      <td>0.525696</td>\n",
       "      <td>0.851734</td>\n",
       "    </tr>\n",
       "    <tr>\n",
       "      <th>1140</th>\n",
       "      <td>WEST VIRGINIA</td>\n",
       "      <td>2013</td>\n",
       "      <td>0.463707</td>\n",
       "      <td>0.211753</td>\n",
       "      <td>0.404103</td>\n",
       "      <td>0.567596</td>\n",
       "      <td>0.214580</td>\n",
       "      <td>0.565835</td>\n",
       "      <td>0.529438</td>\n",
       "      <td>0.327008</td>\n",
       "      <td>0.282401</td>\n",
       "      <td>0.144358</td>\n",
       "      <td>0.226640</td>\n",
       "    </tr>\n",
       "    <tr>\n",
       "      <th>1141</th>\n",
       "      <td>WISCONSIN</td>\n",
       "      <td>2013</td>\n",
       "      <td>0.099642</td>\n",
       "      <td>0.148156</td>\n",
       "      <td>0.291008</td>\n",
       "      <td>0.268167</td>\n",
       "      <td>0.265487</td>\n",
       "      <td>0.376592</td>\n",
       "      <td>0.049099</td>\n",
       "      <td>0.700330</td>\n",
       "      <td>0.387879</td>\n",
       "      <td>0.000000</td>\n",
       "      <td>0.633531</td>\n",
       "    </tr>\n",
       "    <tr>\n",
       "      <th>1142</th>\n",
       "      <td>WYOMING</td>\n",
       "      <td>2013</td>\n",
       "      <td>0.295514</td>\n",
       "      <td>0.229977</td>\n",
       "      <td>0.460110</td>\n",
       "      <td>0.209414</td>\n",
       "      <td>0.361643</td>\n",
       "      <td>0.655923</td>\n",
       "      <td>0.074208</td>\n",
       "      <td>0.884684</td>\n",
       "      <td>0.413407</td>\n",
       "      <td>0.283124</td>\n",
       "      <td>0.258494</td>\n",
       "    </tr>\n",
       "    <tr>\n",
       "      <th>1143</th>\n",
       "      <td>PUERTO RICO</td>\n",
       "      <td>2013</td>\n",
       "      <td>0.762105</td>\n",
       "      <td>0.361738</td>\n",
       "      <td>0.551498</td>\n",
       "      <td>0.604508</td>\n",
       "      <td>0.431512</td>\n",
       "      <td>1.000000</td>\n",
       "      <td>0.377161</td>\n",
       "      <td>0.765314</td>\n",
       "      <td>0.503061</td>\n",
       "      <td>0.113042</td>\n",
       "      <td>0.604385</td>\n",
       "    </tr>\n",
       "  </tbody>\n",
       "</table>\n",
       "</div>"
      ],
      "text/plain": [
       "              State  Year      Slab  MultiBeam  GirderFloorBeamSystem  \\\n",
       "1139     WASHINGTON  2013  0.331335   0.276044               0.544119   \n",
       "1140  WEST VIRGINIA  2013  0.463707   0.211753               0.404103   \n",
       "1141      WISCONSIN  2013  0.099642   0.148156               0.291008   \n",
       "1142        WYOMING  2013  0.295514   0.229977               0.460110   \n",
       "1143    PUERTO RICO  2013  0.762105   0.361738               0.551498   \n",
       "\n",
       "       TeaBeam  BoxBeamMultiple  ArchDeck   Culvert  TrussThru     Frame  \\\n",
       "1139  0.338060         0.438852  0.392112  0.204236   0.514098  0.168329   \n",
       "1140  0.567596         0.214580  0.565835  0.529438   0.327008  0.282401   \n",
       "1141  0.268167         0.265487  0.376592  0.049099   0.700330  0.387879   \n",
       "1142  0.209414         0.361643  0.655923  0.074208   0.884684  0.413407   \n",
       "1143  0.604508         0.431512  1.000000  0.377161   0.765314  0.503061   \n",
       "\n",
       "      BoxBeamSingle  TrussDeck  \n",
       "1139       0.525696   0.851734  \n",
       "1140       0.144358   0.226640  \n",
       "1141       0.000000   0.633531  \n",
       "1142       0.283124   0.258494  \n",
       "1143       0.113042   0.604385  "
      ]
     },
     "execution_count": 111,
     "metadata": {},
     "output_type": "execute_result"
    }
   ],
   "source": [
    "df_allYears.tail()"
   ]
  },
  {
   "cell_type": "code",
   "execution_count": 112,
   "metadata": {},
   "outputs": [],
   "source": [
    "# np.nan, 0\n",
    "df_allYears = df_allYears.replace(np.nan, 0)"
   ]
  },
  {
   "cell_type": "code",
   "execution_count": 113,
   "metadata": {},
   "outputs": [
    {
     "data": {
      "text/plain": [
       "False"
      ]
     },
     "execution_count": 113,
     "metadata": {},
     "output_type": "execute_result"
    }
   ],
   "source": [
    "df_allYears.isna().values.any()\n"
   ]
  },
  {
   "cell_type": "code",
   "execution_count": 114,
   "metadata": {},
   "outputs": [
    {
     "data": {
      "text/plain": [
       "(1144, 13)"
      ]
     },
     "execution_count": 114,
     "metadata": {},
     "output_type": "execute_result"
    }
   ],
   "source": [
    "df_allYears.shape"
   ]
  },
  {
   "cell_type": "code",
   "execution_count": 118,
   "metadata": {},
   "outputs": [],
   "source": [
    "# Export the dataframe as a .csv file ready for modeling.\n",
    "df_allYears.to_csv(\"NBI_processed.csv\", index = False, encoding=\"utf-8\")"
   ]
  },
  {
   "cell_type": "code",
   "execution_count": null,
   "metadata": {},
   "outputs": [],
   "source": []
  }
 ],
 "metadata": {
  "kernelspec": {
   "display_name": "Python 3",
   "language": "python",
   "name": "python3"
  },
  "language_info": {
   "codemirror_mode": {
    "name": "ipython",
    "version": 3
   },
   "file_extension": ".py",
   "mimetype": "text/x-python",
   "name": "python",
   "nbconvert_exporter": "python",
   "pygments_lexer": "ipython3",
   "version": "3.7.9"
  }
 },
 "nbformat": 4,
 "nbformat_minor": 4
}
