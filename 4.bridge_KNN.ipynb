{
 "cells": [
  {
   "cell_type": "code",
   "execution_count": 2,
   "metadata": {},
   "outputs": [],
   "source": [
    "import numpy as np\n",
    "import pandas as pd\n",
    "from sklearn.neighbors import KNeighborsClassifier\n",
    "from sklearn.model_selection import GridSearchCV\n",
    "from sklearn.model_selection import train_test_split\n",
    "from sklearn.metrics import accuracy_score\n",
    "from sklearn.metrics import f1_score"
   ]
  },
  {
   "cell_type": "code",
   "execution_count": 4,
   "metadata": {},
   "outputs": [
    {
     "data": {
      "text/html": [
       "<div>\n",
       "<style scoped>\n",
       "    .dataframe tbody tr th:only-of-type {\n",
       "        vertical-align: middle;\n",
       "    }\n",
       "\n",
       "    .dataframe tbody tr th {\n",
       "        vertical-align: top;\n",
       "    }\n",
       "\n",
       "    .dataframe thead th {\n",
       "        text-align: right;\n",
       "    }\n",
       "</style>\n",
       "<table border=\"1\" class=\"dataframe\">\n",
       "  <thead>\n",
       "    <tr style=\"text-align: right;\">\n",
       "      <th></th>\n",
       "      <th>State</th>\n",
       "      <th>Year</th>\n",
       "      <th>Slab</th>\n",
       "      <th>MultiBeam</th>\n",
       "      <th>GirderFloorBeamSystem</th>\n",
       "      <th>TeaBeam</th>\n",
       "      <th>BoxBeamMultiple</th>\n",
       "      <th>ArchDeck</th>\n",
       "      <th>Culvert</th>\n",
       "      <th>TrussThru</th>\n",
       "      <th>Frame</th>\n",
       "      <th>BoxBeamSingle</th>\n",
       "      <th>TrussDeck</th>\n",
       "      <th>Label</th>\n",
       "    </tr>\n",
       "  </thead>\n",
       "  <tbody>\n",
       "    <tr>\n",
       "      <th>0</th>\n",
       "      <td>ALABAMA</td>\n",
       "      <td>1992</td>\n",
       "      <td>0.326781</td>\n",
       "      <td>0.257628</td>\n",
       "      <td>0.292597</td>\n",
       "      <td>0.417426</td>\n",
       "      <td>0.299461</td>\n",
       "      <td>0.850491</td>\n",
       "      <td>0.134380</td>\n",
       "      <td>0.887495</td>\n",
       "      <td>0.851453</td>\n",
       "      <td>0.014134</td>\n",
       "      <td>0.805998</td>\n",
       "      <td>1</td>\n",
       "    </tr>\n",
       "    <tr>\n",
       "      <th>1</th>\n",
       "      <td>ALASKA</td>\n",
       "      <td>1992</td>\n",
       "      <td>0.082470</td>\n",
       "      <td>0.268559</td>\n",
       "      <td>0.115272</td>\n",
       "      <td>0.172852</td>\n",
       "      <td>0.264056</td>\n",
       "      <td>0.141922</td>\n",
       "      <td>1.000000</td>\n",
       "      <td>0.494670</td>\n",
       "      <td>0.137405</td>\n",
       "      <td>0.000000</td>\n",
       "      <td>0.030212</td>\n",
       "      <td>1</td>\n",
       "    </tr>\n",
       "    <tr>\n",
       "      <th>2</th>\n",
       "      <td>ARIZONA</td>\n",
       "      <td>1992</td>\n",
       "      <td>0.183139</td>\n",
       "      <td>0.177047</td>\n",
       "      <td>0.096338</td>\n",
       "      <td>0.224856</td>\n",
       "      <td>0.137023</td>\n",
       "      <td>0.320507</td>\n",
       "      <td>0.061438</td>\n",
       "      <td>0.927453</td>\n",
       "      <td>0.197519</td>\n",
       "      <td>0.087231</td>\n",
       "      <td>0.413820</td>\n",
       "      <td>1</td>\n",
       "    </tr>\n",
       "    <tr>\n",
       "      <th>3</th>\n",
       "      <td>ARKANSAS</td>\n",
       "      <td>1992</td>\n",
       "      <td>0.170860</td>\n",
       "      <td>0.329185</td>\n",
       "      <td>0.222030</td>\n",
       "      <td>0.323595</td>\n",
       "      <td>0.192091</td>\n",
       "      <td>0.369497</td>\n",
       "      <td>0.054384</td>\n",
       "      <td>0.672889</td>\n",
       "      <td>0.131139</td>\n",
       "      <td>0.000000</td>\n",
       "      <td>0.586634</td>\n",
       "      <td>1</td>\n",
       "    </tr>\n",
       "    <tr>\n",
       "      <th>4</th>\n",
       "      <td>CALIFORNIA</td>\n",
       "      <td>1992</td>\n",
       "      <td>0.218799</td>\n",
       "      <td>0.497345</td>\n",
       "      <td>0.885631</td>\n",
       "      <td>0.344593</td>\n",
       "      <td>0.342176</td>\n",
       "      <td>0.623282</td>\n",
       "      <td>0.126319</td>\n",
       "      <td>0.941477</td>\n",
       "      <td>0.000000</td>\n",
       "      <td>0.000000</td>\n",
       "      <td>0.621819</td>\n",
       "      <td>1</td>\n",
       "    </tr>\n",
       "  </tbody>\n",
       "</table>\n",
       "</div>"
      ],
      "text/plain": [
       "        State  Year      Slab  MultiBeam  GirderFloorBeamSystem   TeaBeam  \\\n",
       "0     ALABAMA  1992  0.326781   0.257628               0.292597  0.417426   \n",
       "1      ALASKA  1992  0.082470   0.268559               0.115272  0.172852   \n",
       "2     ARIZONA  1992  0.183139   0.177047               0.096338  0.224856   \n",
       "3    ARKANSAS  1992  0.170860   0.329185               0.222030  0.323595   \n",
       "4  CALIFORNIA  1992  0.218799   0.497345               0.885631  0.344593   \n",
       "\n",
       "   BoxBeamMultiple  ArchDeck   Culvert  TrussThru     Frame  BoxBeamSingle  \\\n",
       "0         0.299461  0.850491  0.134380   0.887495  0.851453       0.014134   \n",
       "1         0.264056  0.141922  1.000000   0.494670  0.137405       0.000000   \n",
       "2         0.137023  0.320507  0.061438   0.927453  0.197519       0.087231   \n",
       "3         0.192091  0.369497  0.054384   0.672889  0.131139       0.000000   \n",
       "4         0.342176  0.623282  0.126319   0.941477  0.000000       0.000000   \n",
       "\n",
       "   TrussDeck  Label  \n",
       "0   0.805998      1  \n",
       "1   0.030212      1  \n",
       "2   0.413820      1  \n",
       "3   0.586634      1  \n",
       "4   0.621819      1  "
      ]
     },
     "execution_count": 4,
     "metadata": {},
     "output_type": "execute_result"
    }
   ],
   "source": [
    "data = pd.read_csv('data_with_labels.csv')\n",
    "data.head()"
   ]
  },
  {
   "cell_type": "code",
   "execution_count": 5,
   "metadata": {},
   "outputs": [
    {
     "data": {
      "text/plain": [
       "(1144, 14)"
      ]
     },
     "execution_count": 5,
     "metadata": {},
     "output_type": "execute_result"
    }
   ],
   "source": [
    "data.shape"
   ]
  },
  {
   "cell_type": "code",
   "execution_count": 6,
   "metadata": {},
   "outputs": [],
   "source": [
    "X = np.array(data.iloc[:,2:-1])\n",
    "\n",
    "y = np.array(data['Label'])\n",
    "\n",
    "# split data into test train set.\n",
    "X_train, X_test, y_train, y_test = train_test_split(X, y, test_size=0.25, random_state=42)"
   ]
  },
  {
   "cell_type": "code",
   "execution_count": 7,
   "metadata": {},
   "outputs": [
    {
     "name": "stdout",
     "output_type": "stream",
     "text": [
      "best score: 0.9195759233926128\n",
      "best params: {'metric': 'manhattan', 'n_neighbors': 2, 'weights': 'distance'}\n"
     ]
    }
   ],
   "source": [
    "# Create the grid parameters\n",
    "grid_params = {\"n_neighbors\": [2, 3, 4, 5, 6, 7, 8],\n",
    "              \"weights\": [\"uniform\", \"distance\"],\n",
    "               \"metric\": [\"euclidean\", \"manhattan\"]            \n",
    "              }\n",
    "# Create the GridSearchCV object\n",
    "gridsearch = GridSearchCV(\n",
    "                KNeighborsClassifier(),\n",
    "                grid_params,\n",
    "                cv = 10,\n",
    "                n_jobs = -1\n",
    "                )\n",
    "\n",
    "gs_fitted = gridsearch.fit(X_train, y_train);\n",
    "print('best score:', gs_fitted.best_score_)\n",
    "print('best params:', gs_fitted.best_params_)"
   ]
  },
  {
   "cell_type": "markdown",
   "metadata": {},
   "source": [
    "Fit a model with the best parameter"
   ]
  },
  {
   "cell_type": "code",
   "execution_count": 8,
   "metadata": {},
   "outputs": [
    {
     "name": "stdout",
     "output_type": "stream",
     "text": [
      "Accuracy: 0.916083916083916\n"
     ]
    }
   ],
   "source": [
    "# fit a new model with best parameter(k)\n",
    "neighs = gs_fitted.best_params_['n_neighbors']\n",
    "metric = gs_fitted.best_params_['metric']\n",
    "weighs = gs_fitted.best_params_['weights']\n",
    "\n",
    "gsknn  = KNeighborsClassifier(n_neighbors = neighs, metric = metric, weights = weighs)\n",
    "gsknn.fit(X_train, y_train)\n",
    "\n",
    "#Predict the response for test dataset\n",
    "y_pred = gsknn.predict(X_test)\n",
    "\n",
    "# Model Accuracy, how often is the classifier correct?\n",
    "print(\"Accuracy:\", accuracy_score(y_test, y_pred))"
   ]
  },
  {
   "cell_type": "code",
   "execution_count": 9,
   "metadata": {},
   "outputs": [
    {
     "name": "stdout",
     "output_type": "stream",
     "text": [
      "f1-Score: 91.48936170212765 %\n"
     ]
    }
   ],
   "source": [
    "f1_Score = f1_score(y_test, y_pred)\n",
    "print(\"f1-Score:\", f1_Score*100, '%')"
   ]
  },
  {
   "cell_type": "code",
   "execution_count": null,
   "metadata": {},
   "outputs": [],
   "source": []
  },
  {
   "cell_type": "code",
   "execution_count": null,
   "metadata": {},
   "outputs": [],
   "source": []
  }
 ],
 "metadata": {
  "kernelspec": {
   "display_name": "Python 3",
   "language": "python",
   "name": "python3"
  },
  "language_info": {
   "codemirror_mode": {
    "name": "ipython",
    "version": 3
   },
   "file_extension": ".py",
   "mimetype": "text/x-python",
   "name": "python",
   "nbconvert_exporter": "python",
   "pygments_lexer": "ipython3",
   "version": "3.7.9"
  }
 },
 "nbformat": 4,
 "nbformat_minor": 4
}
