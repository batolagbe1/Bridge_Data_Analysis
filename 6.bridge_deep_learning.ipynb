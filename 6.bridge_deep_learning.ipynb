{
 "cells": [
  {
   "cell_type": "code",
   "execution_count": 15,
   "metadata": {},
   "outputs": [
    {
     "name": "stdout",
     "output_type": "stream",
     "text": [
      "Collecting shap\n",
      "  Downloading shap-0.40.0-cp37-cp37m-win_amd64.whl (430 kB)\n",
      "Requirement already satisfied: pandas in c:\\users\\user\\anaconda3\\lib\\site-packages (from shap) (1.1.3)\n",
      "Requirement already satisfied: tqdm>4.25.0 in c:\\users\\user\\anaconda3\\lib\\site-packages (from shap) (4.51.0)\n",
      "Requirement already satisfied: numpy in c:\\users\\user\\anaconda3\\lib\\site-packages (from shap) (1.21.5)\n",
      "Collecting packaging>20.9\n",
      "  Downloading packaging-21.3-py3-none-any.whl (40 kB)\n",
      "Requirement already satisfied: scikit-learn in c:\\users\\user\\anaconda3\\lib\\site-packages (from shap) (1.0.2)\n",
      "Collecting slicer==0.0.7\n",
      "  Downloading slicer-0.0.7-py3-none-any.whl (14 kB)\n",
      "Requirement already satisfied: scipy in c:\\users\\user\\anaconda3\\lib\\site-packages (from shap) (1.7.3)\n",
      "Collecting numba\n",
      "  Downloading numba-0.55.1-cp37-cp37m-win_amd64.whl (2.4 MB)\n",
      "Requirement already satisfied: cloudpickle in c:\\users\\user\\anaconda3\\lib\\site-packages (from shap) (1.6.0)\n",
      "Requirement already satisfied: python-dateutil>=2.7.3 in c:\\users\\user\\anaconda3\\lib\\site-packages (from pandas->shap) (2.8.1)\n",
      "Requirement already satisfied: pytz>=2017.2 in c:\\users\\user\\anaconda3\\lib\\site-packages (from pandas->shap) (2020.1)\n",
      "Requirement already satisfied: pyparsing!=3.0.5,>=2.0.2 in c:\\users\\user\\anaconda3\\lib\\site-packages (from packaging>20.9->shap) (2.4.7)\n",
      "Requirement already satisfied: joblib>=0.11 in c:\\users\\user\\anaconda3\\lib\\site-packages (from scikit-learn->shap) (1.1.0)\n",
      "Requirement already satisfied: threadpoolctl>=2.0.0 in c:\\users\\user\\anaconda3\\lib\\site-packages (from scikit-learn->shap) (3.0.0)\n",
      "Collecting llvmlite<0.39,>=0.38.0rc1\n",
      "  Downloading llvmlite-0.38.0-cp37-cp37m-win_amd64.whl (23.2 MB)\n",
      "Requirement already satisfied: setuptools in c:\\users\\user\\anaconda3\\lib\\site-packages (from numba->shap) (50.3.1.post20201107)\n",
      "Requirement already satisfied: six>=1.5 in c:\\users\\user\\anaconda3\\lib\\site-packages (from python-dateutil>=2.7.3->pandas->shap) (1.15.0)\n",
      "Installing collected packages: packaging, slicer, llvmlite, numba, shap\n",
      "  Attempting uninstall: packaging\n",
      "    Found existing installation: packaging 20.4\n",
      "    Uninstalling packaging-20.4:\n",
      "      Successfully uninstalled packaging-20.4\n",
      "Successfully installed llvmlite-0.38.0 numba-0.55.1 packaging-21.3 shap-0.40.0 slicer-0.0.7\n"
     ]
    }
   ],
   "source": [
    "!pip install shap"
   ]
  },
  {
   "cell_type": "code",
   "execution_count": 16,
   "metadata": {},
   "outputs": [],
   "source": [
    "import pandas as pd\n",
    "import numpy as np\n",
    "import seaborn as sns\n",
    "import matplotlib.pyplot as plt\n",
    "from sklearn.model_selection import train_test_split\n",
    "from sklearn.linear_model import LogisticRegression\n",
    "from sklearn.model_selection import KFold\n",
    "from sklearn.model_selection import StratifiedKFold\n",
    "from sklearn.model_selection import cross_val_score\n",
    "from sklearn.model_selection import GridSearchCV\n",
    "from sklearn.metrics import confusion_matrix\n",
    "from sklearn.metrics import accuracy_score\n",
    "from sklearn.metrics import f1_score\n",
    "%matplotlib inline\n",
    "\n",
    "\n",
    "from tensorflow.keras import models, layers, utils, backend as K\n",
    "import matplotlib.pyplot as plt\n",
    "\n",
    "import shap"
   ]
  },
  {
   "cell_type": "code",
   "execution_count": 2,
   "metadata": {},
   "outputs": [
    {
     "data": {
      "text/html": [
       "<div>\n",
       "<style scoped>\n",
       "    .dataframe tbody tr th:only-of-type {\n",
       "        vertical-align: middle;\n",
       "    }\n",
       "\n",
       "    .dataframe tbody tr th {\n",
       "        vertical-align: top;\n",
       "    }\n",
       "\n",
       "    .dataframe thead th {\n",
       "        text-align: right;\n",
       "    }\n",
       "</style>\n",
       "<table border=\"1\" class=\"dataframe\">\n",
       "  <thead>\n",
       "    <tr style=\"text-align: right;\">\n",
       "      <th></th>\n",
       "      <th>State</th>\n",
       "      <th>Year</th>\n",
       "      <th>Slab</th>\n",
       "      <th>MultiBeam</th>\n",
       "      <th>GirderFloorBeamSystem</th>\n",
       "      <th>TeaBeam</th>\n",
       "      <th>BoxBeamMultiple</th>\n",
       "      <th>ArchDeck</th>\n",
       "      <th>Culvert</th>\n",
       "      <th>TrussThru</th>\n",
       "      <th>Frame</th>\n",
       "      <th>BoxBeamSingle</th>\n",
       "      <th>TrussDeck</th>\n",
       "      <th>Label</th>\n",
       "    </tr>\n",
       "  </thead>\n",
       "  <tbody>\n",
       "    <tr>\n",
       "      <th>0</th>\n",
       "      <td>ALABAMA</td>\n",
       "      <td>1992</td>\n",
       "      <td>0.326781</td>\n",
       "      <td>0.257628</td>\n",
       "      <td>0.292597</td>\n",
       "      <td>0.417426</td>\n",
       "      <td>0.299461</td>\n",
       "      <td>0.850491</td>\n",
       "      <td>0.134380</td>\n",
       "      <td>0.887495</td>\n",
       "      <td>0.851453</td>\n",
       "      <td>0.014134</td>\n",
       "      <td>0.805998</td>\n",
       "      <td>1</td>\n",
       "    </tr>\n",
       "    <tr>\n",
       "      <th>1</th>\n",
       "      <td>ALASKA</td>\n",
       "      <td>1992</td>\n",
       "      <td>0.082470</td>\n",
       "      <td>0.268559</td>\n",
       "      <td>0.115272</td>\n",
       "      <td>0.172852</td>\n",
       "      <td>0.264056</td>\n",
       "      <td>0.141922</td>\n",
       "      <td>1.000000</td>\n",
       "      <td>0.494670</td>\n",
       "      <td>0.137405</td>\n",
       "      <td>0.000000</td>\n",
       "      <td>0.030212</td>\n",
       "      <td>1</td>\n",
       "    </tr>\n",
       "    <tr>\n",
       "      <th>2</th>\n",
       "      <td>ARIZONA</td>\n",
       "      <td>1992</td>\n",
       "      <td>0.183139</td>\n",
       "      <td>0.177047</td>\n",
       "      <td>0.096338</td>\n",
       "      <td>0.224856</td>\n",
       "      <td>0.137023</td>\n",
       "      <td>0.320507</td>\n",
       "      <td>0.061438</td>\n",
       "      <td>0.927453</td>\n",
       "      <td>0.197519</td>\n",
       "      <td>0.087231</td>\n",
       "      <td>0.413820</td>\n",
       "      <td>1</td>\n",
       "    </tr>\n",
       "    <tr>\n",
       "      <th>3</th>\n",
       "      <td>ARKANSAS</td>\n",
       "      <td>1992</td>\n",
       "      <td>0.170860</td>\n",
       "      <td>0.329185</td>\n",
       "      <td>0.222030</td>\n",
       "      <td>0.323595</td>\n",
       "      <td>0.192091</td>\n",
       "      <td>0.369497</td>\n",
       "      <td>0.054384</td>\n",
       "      <td>0.672889</td>\n",
       "      <td>0.131139</td>\n",
       "      <td>0.000000</td>\n",
       "      <td>0.586634</td>\n",
       "      <td>1</td>\n",
       "    </tr>\n",
       "    <tr>\n",
       "      <th>4</th>\n",
       "      <td>CALIFORNIA</td>\n",
       "      <td>1992</td>\n",
       "      <td>0.218799</td>\n",
       "      <td>0.497345</td>\n",
       "      <td>0.885631</td>\n",
       "      <td>0.344593</td>\n",
       "      <td>0.342176</td>\n",
       "      <td>0.623282</td>\n",
       "      <td>0.126319</td>\n",
       "      <td>0.941477</td>\n",
       "      <td>0.000000</td>\n",
       "      <td>0.000000</td>\n",
       "      <td>0.621819</td>\n",
       "      <td>1</td>\n",
       "    </tr>\n",
       "  </tbody>\n",
       "</table>\n",
       "</div>"
      ],
      "text/plain": [
       "        State  Year      Slab  MultiBeam  GirderFloorBeamSystem   TeaBeam  \\\n",
       "0     ALABAMA  1992  0.326781   0.257628               0.292597  0.417426   \n",
       "1      ALASKA  1992  0.082470   0.268559               0.115272  0.172852   \n",
       "2     ARIZONA  1992  0.183139   0.177047               0.096338  0.224856   \n",
       "3    ARKANSAS  1992  0.170860   0.329185               0.222030  0.323595   \n",
       "4  CALIFORNIA  1992  0.218799   0.497345               0.885631  0.344593   \n",
       "\n",
       "   BoxBeamMultiple  ArchDeck   Culvert  TrussThru     Frame  BoxBeamSingle  \\\n",
       "0         0.299461  0.850491  0.134380   0.887495  0.851453       0.014134   \n",
       "1         0.264056  0.141922  1.000000   0.494670  0.137405       0.000000   \n",
       "2         0.137023  0.320507  0.061438   0.927453  0.197519       0.087231   \n",
       "3         0.192091  0.369497  0.054384   0.672889  0.131139       0.000000   \n",
       "4         0.342176  0.623282  0.126319   0.941477  0.000000       0.000000   \n",
       "\n",
       "   TrussDeck  Label  \n",
       "0   0.805998      1  \n",
       "1   0.030212      1  \n",
       "2   0.413820      1  \n",
       "3   0.586634      1  \n",
       "4   0.621819      1  "
      ]
     },
     "execution_count": 2,
     "metadata": {},
     "output_type": "execute_result"
    }
   ],
   "source": [
    "data = pd.read_csv('data_with_labels.csv')\n",
    "data.head()"
   ]
  },
  {
   "cell_type": "code",
   "execution_count": 3,
   "metadata": {},
   "outputs": [
    {
     "data": {
      "text/plain": [
       "(1144, 11)"
      ]
     },
     "execution_count": 3,
     "metadata": {},
     "output_type": "execute_result"
    }
   ],
   "source": [
    "X = np.array(data.iloc[:,2:-1])\n",
    "X.shape"
   ]
  },
  {
   "cell_type": "code",
   "execution_count": 4,
   "metadata": {},
   "outputs": [
    {
     "data": {
      "text/plain": [
       "array([1, 1, 1, ..., 2, 2, 2], dtype=int64)"
      ]
     },
     "execution_count": 4,
     "metadata": {},
     "output_type": "execute_result"
    }
   ],
   "source": [
    "y = np.array(data['Label'])\n",
    "y"
   ]
  },
  {
   "cell_type": "code",
   "execution_count": 5,
   "metadata": {},
   "outputs": [],
   "source": [
    "# split data into test train set.\n",
    "X_train, X_test, y_train, y_test = train_test_split(X, y, test_size=0.25, random_state=42)"
   ]
  },
  {
   "cell_type": "code",
   "execution_count": 7,
   "metadata": {},
   "outputs": [],
   "source": [
    "n_features = X_train.shape[1]"
   ]
  },
  {
   "cell_type": "code",
   "execution_count": 46,
   "metadata": {},
   "outputs": [
    {
     "name": "stdout",
     "output_type": "stream",
     "text": [
      "Model: \"DeepNN\"\n",
      "_________________________________________________________________\n",
      " Layer (type)                Output Shape              Param #   \n",
      "=================================================================\n",
      " input (InputLayer)          [(None, 11)]              0         \n",
      "                                                                 \n",
      " h1 (Dense)                  (None, 6)                 72        \n",
      "                                                                 \n",
      " drop1 (Dropout)             (None, 6)                 0         \n",
      "                                                                 \n",
      " h2 (Dense)                  (None, 6)                 42        \n",
      "                                                                 \n",
      " drop2 (Dropout)             (None, 6)                 0         \n",
      "                                                                 \n",
      " h3 (Dense)                  (None, 6)                 42        \n",
      "                                                                 \n",
      " drop3 (Dropout)             (None, 6)                 0         \n",
      "                                                                 \n",
      " h4 (Dense)                  (None, 6)                 42        \n",
      "                                                                 \n",
      " drop4 (Dropout)             (None, 6)                 0         \n",
      "                                                                 \n",
      " output (Dense)              (None, 1)                 7         \n",
      "                                                                 \n",
      "=================================================================\n",
      "Total params: 205\n",
      "Trainable params: 205\n",
      "Non-trainable params: 0\n",
      "_________________________________________________________________\n"
     ]
    }
   ],
   "source": [
    "n_features = X_train.shape[1]\n",
    "\n",
    "# DeepNN\n",
    "### layer input\n",
    "inputs = layers.Input(name=\"input\", shape=(n_features,))\n",
    "### hidden layer 1\n",
    "h1 = layers.Dense(name=\"h1\", units=int(round((n_features+1)/2)), activation='relu')(inputs)\n",
    "h1 = layers.Dropout(name=\"drop1\", rate=0.2)(h1)\n",
    "### hidden layer 2\n",
    "h2 = layers.Dense(name=\"h2\", units=int(round((n_features+1)/2)), activation='relu')(h1)\n",
    "h2 = layers.Dropout(name=\"drop2\", rate=0.2)(h2)\n",
    "### hidden layer 3\n",
    "h3 = layers.Dense(name=\"h3\", units=int(round((n_features+1)/2)), activation='relu')(h2)\n",
    "h3 = layers.Dropout(name=\"drop3\", rate=0.2)(h3)\n",
    "### hidden layer 4\n",
    "h4 = layers.Dense(name=\"h4\", units=int(round((n_features+1)/2)), activation='relu')(h3)\n",
    "h4 = layers.Dropout(name=\"drop4\", rate=0.2)(h4)\n",
    "\n",
    "### layer output\n",
    "outputs = layers.Dense(name=\"output\", units=1, activation='sigmoid')(h4)\n",
    "model = models.Model(inputs=inputs, outputs=outputs, name=\"DeepNN\")\n",
    "model.summary()"
   ]
  },
  {
   "cell_type": "code",
   "execution_count": 47,
   "metadata": {},
   "outputs": [],
   "source": [
    "# define metrics\n",
    "def Recall(y_true, y_pred):\n",
    "    true_positives = K.sum(K.round(K.clip(y_true * y_pred, 0, 1)))\n",
    "    possible_positives = K.sum(K.round(K.clip(y_true, 0, 1)))\n",
    "    recall = true_positives / (possible_positives + K.epsilon())\n",
    "    return recall\n",
    "\n",
    "def Precision(y_true, y_pred):\n",
    "    true_positives = K.sum(K.round(K.clip(y_true * y_pred, 0, 1)))\n",
    "    predicted_positives = K.sum(K.round(K.clip(y_pred, 0, 1)))\n",
    "    precision = true_positives / (predicted_positives + K.epsilon())\n",
    "    return precision\n",
    "\n",
    "def F1(y_true, y_pred):\n",
    "    precision = Precision(y_true, y_pred)\n",
    "    recall = Recall(y_true, y_pred)\n",
    "    return 2*((precision*recall)/(precision+recall+K.epsilon()))\n",
    "\n",
    "# compile the neural network\n",
    "model.compile(optimizer='adam', loss='mse', \n",
    "              metrics=['accuracy',F1])"
   ]
  },
  {
   "cell_type": "code",
   "execution_count": 48,
   "metadata": {},
   "outputs": [
    {
     "data": {
      "image/png": "[encoded data removed]",
      "text/plain": [
       "<Figure size 1080x216 with 4 Axes>"
      ]
     },
     "metadata": {
      "needs_background": "light"
     },
     "output_type": "display_data"
    }
   ],
   "source": [
    "# train/validation\n",
    "training = model.fit(x=X, y=y, batch_size=32, epochs=100, shuffle=True, verbose=0, validation_split=0.3)\n",
    "\n",
    "# plot\n",
    "metrics = [k for k in training.history.keys() if (\"loss\" not in k) and (\"val\" not in k)]    \n",
    "fig, ax = plt.subplots(nrows=1, ncols=2, sharey=True, figsize=(15,3))\n",
    "       \n",
    "## training    \n",
    "ax[0].set(title=\"Training\")    \n",
    "ax11 = ax[0].twinx()    \n",
    "ax[0].plot(training.history['loss'], color='black')    \n",
    "ax[0].set_xlabel('Epochs')    \n",
    "ax[0].set_ylabel('Loss', color='black')    \n",
    "for metric in metrics:        \n",
    "    ax11.plot(training.history[metric], label=metric)    \n",
    "    ax11.set_ylabel(\"Score\", color='steelblue')    \n",
    "ax11.legend()\n",
    "        \n",
    "## validation    \n",
    "ax[1].set(title=\"Validation\")    \n",
    "ax22 = ax[1].twinx()    \n",
    "ax[1].plot(training.history['val_loss'], color='black')    \n",
    "ax[1].set_xlabel('Epochs')    \n",
    "ax[1].set_ylabel('Loss', color='black')    \n",
    "for metric in metrics:          \n",
    "    ax22.plot(training.history['val_'+metric], label=metric)    \n",
    "    ax22.set_ylabel(\"Score\", color=\"steelblue\")    \n",
    "plt.show()"
   ]
  },
  {
   "cell_type": "code",
   "execution_count": null,
   "metadata": {},
   "outputs": [],
   "source": []
  },
  {
   "cell_type": "code",
   "execution_count": null,
   "metadata": {},
   "outputs": [],
   "source": []
  },
  {
   "cell_type": "code",
   "execution_count": null,
   "metadata": {},
   "outputs": [],
   "source": []
  },
  {
   "cell_type": "markdown",
   "metadata": {},
   "source": [
    "# References"
   ]
  },
  {
   "cell_type": "markdown",
   "metadata": {},
   "source": [
    "https://towardsdatascience.com/deep-learning-with-python-neural-networks-complete-tutorial-6b53c0b06af0"
   ]
  },
  {
   "cell_type": "code",
   "execution_count": null,
   "metadata": {},
   "outputs": [],
   "source": []
  }
 ],
 "metadata": {
  "kernelspec": {
   "display_name": "Python 3",
   "language": "python",
   "name": "python3"
  },
  "language_info": {
   "codemirror_mode": {
    "name": "ipython",
    "version": 3
   },
   "file_extension": ".py",
   "mimetype": "text/x-python",
   "name": "python",
   "nbconvert_exporter": "python",
   "pygments_lexer": "ipython3",
   "version": "3.7.9"
  }
 },
 "nbformat": 4,
 "nbformat_minor": 4
}
