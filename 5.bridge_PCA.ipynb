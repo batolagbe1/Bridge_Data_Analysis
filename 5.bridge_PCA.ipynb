{
 "cells": [
  {
   "cell_type": "code",
   "execution_count": 198,
   "metadata": {},
   "outputs": [],
   "source": [
    "tf.keras.backend.clear_session()"
   ]
  },
  {
   "cell_type": "code",
   "execution_count": 160,
   "metadata": {},
   "outputs": [],
   "source": [
    "import tensorflow as tf\n",
    "\n",
    "import pandas as pd\n",
    "import numpy as np\n",
    "from sklearn.model_selection import train_test_split\n",
    "from sklearn.metrics import f1_score\n",
    "\n",
    "from tensorflow.keras import models, layers, utils, backend as K\n",
    "import matplotlib.pyplot as plt"
   ]
  },
  {
   "cell_type": "code",
   "execution_count": 161,
   "metadata": {},
   "outputs": [
    {
     "data": {
      "text/html": [
       "<div>\n",
       "<style scoped>\n",
       "    .dataframe tbody tr th:only-of-type {\n",
       "        vertical-align: middle;\n",
       "    }\n",
       "\n",
       "    .dataframe tbody tr th {\n",
       "        vertical-align: top;\n",
       "    }\n",
       "\n",
       "    .dataframe thead th {\n",
       "        text-align: right;\n",
       "    }\n",
       "</style>\n",
       "<table border=\"1\" class=\"dataframe\">\n",
       "  <thead>\n",
       "    <tr style=\"text-align: right;\">\n",
       "      <th></th>\n",
       "      <th>State</th>\n",
       "      <th>Year</th>\n",
       "      <th>Slab</th>\n",
       "      <th>MultiBeam</th>\n",
       "      <th>GirderFloorBeamSystem</th>\n",
       "      <th>TeaBeam</th>\n",
       "      <th>BoxBeamMultiple</th>\n",
       "      <th>ArchDeck</th>\n",
       "      <th>Culvert</th>\n",
       "      <th>TrussThru</th>\n",
       "      <th>Frame</th>\n",
       "      <th>BoxBeamSingle</th>\n",
       "      <th>TrussDeck</th>\n",
       "      <th>Label</th>\n",
       "    </tr>\n",
       "  </thead>\n",
       "  <tbody>\n",
       "    <tr>\n",
       "      <th>0</th>\n",
       "      <td>ALABAMA</td>\n",
       "      <td>1992</td>\n",
       "      <td>0.326781</td>\n",
       "      <td>0.257628</td>\n",
       "      <td>0.292597</td>\n",
       "      <td>0.417426</td>\n",
       "      <td>0.299461</td>\n",
       "      <td>0.850491</td>\n",
       "      <td>0.134380</td>\n",
       "      <td>0.887495</td>\n",
       "      <td>0.851453</td>\n",
       "      <td>0.014134</td>\n",
       "      <td>0.805998</td>\n",
       "      <td>1</td>\n",
       "    </tr>\n",
       "    <tr>\n",
       "      <th>1</th>\n",
       "      <td>ALASKA</td>\n",
       "      <td>1992</td>\n",
       "      <td>0.082470</td>\n",
       "      <td>0.268559</td>\n",
       "      <td>0.115272</td>\n",
       "      <td>0.172852</td>\n",
       "      <td>0.264056</td>\n",
       "      <td>0.141922</td>\n",
       "      <td>1.000000</td>\n",
       "      <td>0.494670</td>\n",
       "      <td>0.137405</td>\n",
       "      <td>0.000000</td>\n",
       "      <td>0.030212</td>\n",
       "      <td>1</td>\n",
       "    </tr>\n",
       "    <tr>\n",
       "      <th>2</th>\n",
       "      <td>ARIZONA</td>\n",
       "      <td>1992</td>\n",
       "      <td>0.183139</td>\n",
       "      <td>0.177047</td>\n",
       "      <td>0.096338</td>\n",
       "      <td>0.224856</td>\n",
       "      <td>0.137023</td>\n",
       "      <td>0.320507</td>\n",
       "      <td>0.061438</td>\n",
       "      <td>0.927453</td>\n",
       "      <td>0.197519</td>\n",
       "      <td>0.087231</td>\n",
       "      <td>0.413820</td>\n",
       "      <td>1</td>\n",
       "    </tr>\n",
       "    <tr>\n",
       "      <th>3</th>\n",
       "      <td>ARKANSAS</td>\n",
       "      <td>1992</td>\n",
       "      <td>0.170860</td>\n",
       "      <td>0.329185</td>\n",
       "      <td>0.222030</td>\n",
       "      <td>0.323595</td>\n",
       "      <td>0.192091</td>\n",
       "      <td>0.369497</td>\n",
       "      <td>0.054384</td>\n",
       "      <td>0.672889</td>\n",
       "      <td>0.131139</td>\n",
       "      <td>0.000000</td>\n",
       "      <td>0.586634</td>\n",
       "      <td>1</td>\n",
       "    </tr>\n",
       "    <tr>\n",
       "      <th>4</th>\n",
       "      <td>CALIFORNIA</td>\n",
       "      <td>1992</td>\n",
       "      <td>0.218799</td>\n",
       "      <td>0.497345</td>\n",
       "      <td>0.885631</td>\n",
       "      <td>0.344593</td>\n",
       "      <td>0.342176</td>\n",
       "      <td>0.623282</td>\n",
       "      <td>0.126319</td>\n",
       "      <td>0.941477</td>\n",
       "      <td>0.000000</td>\n",
       "      <td>0.000000</td>\n",
       "      <td>0.621819</td>\n",
       "      <td>1</td>\n",
       "    </tr>\n",
       "  </tbody>\n",
       "</table>\n",
       "</div>"
      ],
      "text/plain": [
       "        State  Year      Slab  MultiBeam  GirderFloorBeamSystem   TeaBeam  \\\n",
       "0     ALABAMA  1992  0.326781   0.257628               0.292597  0.417426   \n",
       "1      ALASKA  1992  0.082470   0.268559               0.115272  0.172852   \n",
       "2     ARIZONA  1992  0.183139   0.177047               0.096338  0.224856   \n",
       "3    ARKANSAS  1992  0.170860   0.329185               0.222030  0.323595   \n",
       "4  CALIFORNIA  1992  0.218799   0.497345               0.885631  0.344593   \n",
       "\n",
       "   BoxBeamMultiple  ArchDeck   Culvert  TrussThru     Frame  BoxBeamSingle  \\\n",
       "0         0.299461  0.850491  0.134380   0.887495  0.851453       0.014134   \n",
       "1         0.264056  0.141922  1.000000   0.494670  0.137405       0.000000   \n",
       "2         0.137023  0.320507  0.061438   0.927453  0.197519       0.087231   \n",
       "3         0.192091  0.369497  0.054384   0.672889  0.131139       0.000000   \n",
       "4         0.342176  0.623282  0.126319   0.941477  0.000000       0.000000   \n",
       "\n",
       "   TrussDeck  Label  \n",
       "0   0.805998      1  \n",
       "1   0.030212      1  \n",
       "2   0.413820      1  \n",
       "3   0.586634      1  \n",
       "4   0.621819      1  "
      ]
     },
     "execution_count": 161,
     "metadata": {},
     "output_type": "execute_result"
    }
   ],
   "source": [
    "data = pd.read_csv('data_with_labels.csv')\n",
    "data.head()"
   ]
  },
  {
   "cell_type": "code",
   "execution_count": 162,
   "metadata": {},
   "outputs": [
    {
     "data": {
      "text/plain": [
       "(1144, 11)"
      ]
     },
     "execution_count": 162,
     "metadata": {},
     "output_type": "execute_result"
    }
   ],
   "source": [
    "X = np.array(data.iloc[:,2:-1])\n",
    "X.shape"
   ]
  },
  {
   "cell_type": "code",
   "execution_count": 163,
   "metadata": {},
   "outputs": [
    {
     "data": {
      "text/plain": [
       "array([1, 1, 1, ..., 2, 2, 2], dtype=int64)"
      ]
     },
     "execution_count": 163,
     "metadata": {},
     "output_type": "execute_result"
    }
   ],
   "source": [
    "y = np.array(data['Label'])\n",
    "y"
   ]
  },
  {
   "cell_type": "code",
   "execution_count": 169,
   "metadata": {},
   "outputs": [],
   "source": [
    "# split data into test train set.\n",
    "X_train, X_test, y_train, y_test = train_test_split(X, y, test_size=0.25, random_state=42)"
   ]
  },
  {
   "cell_type": "code",
   "execution_count": 165,
   "metadata": {},
   "outputs": [],
   "source": [
    "# y_train = utils.to_categorical(y_train)      #one hot encode the y_train for multiclass problem\n"
   ]
  },
  {
   "cell_type": "code",
   "execution_count": 166,
   "metadata": {},
   "outputs": [
    {
     "data": {
      "text/plain": [
       "11"
      ]
     },
     "execution_count": 166,
     "metadata": {},
     "output_type": "execute_result"
    }
   ],
   "source": [
    "n_features = X_train.shape[1]\n",
    "n_features"
   ]
  },
  {
   "cell_type": "code",
   "execution_count": 223,
   "metadata": {
    "scrolled": true
   },
   "outputs": [
    {
     "name": "stdout",
     "output_type": "stream",
     "text": [
      "Epoch 1/100\n",
      "27/27 [==============================] - 0s 1ms/step - loss: 1.2605 - accuracy: 0.0058\n",
      "Epoch 2/100\n",
      "27/27 [==============================] - 0s 2ms/step - loss: 1.0651 - accuracy: 0.0408\n",
      "Epoch 3/100\n",
      "27/27 [==============================] - 0s 2ms/step - loss: 0.8781 - accuracy: 0.2075\n",
      "Epoch 4/100\n",
      "27/27 [==============================] - 0s 2ms/step - loss: 0.7408 - accuracy: 0.3543\n",
      "Epoch 5/100\n",
      "27/27 [==============================] - 0s 2ms/step - loss: 0.6624 - accuracy: 0.3974\n",
      "Epoch 6/100\n",
      "27/27 [==============================] - 0s 2ms/step - loss: 0.6216 - accuracy: 0.4044\n",
      "Epoch 7/100\n",
      "27/27 [==============================] - 0s 1ms/step - loss: 0.6000 - accuracy: 0.4091\n",
      "Epoch 8/100\n",
      "27/27 [==============================] - 0s 2ms/step - loss: 0.5876 - accuracy: 0.4103\n",
      "Epoch 9/100\n",
      "27/27 [==============================] - 0s 1ms/step - loss: 0.5800 - accuracy: 0.4068\n",
      "Epoch 10/100\n",
      "27/27 [==============================] - 0s 2ms/step - loss: 0.5750 - accuracy: 0.4056\n",
      "Epoch 11/100\n",
      "27/27 [==============================] - 0s 2ms/step - loss: 0.5715 - accuracy: 0.4056\n",
      "Epoch 12/100\n",
      "27/27 [==============================] - 0s 1ms/step - loss: 0.5690 - accuracy: 0.4056\n",
      "Epoch 13/100\n",
      "27/27 [==============================] - 0s 2ms/step - loss: 0.5672 - accuracy: 0.4056\n",
      "Epoch 14/100\n",
      "27/27 [==============================] - 0s 1ms/step - loss: 0.5657 - accuracy: 0.4056\n",
      "Epoch 15/100\n",
      "27/27 [==============================] - 0s 1ms/step - loss: 0.5646 - accuracy: 0.4056\n",
      "Epoch 16/100\n",
      "27/27 [==============================] - 0s 1ms/step - loss: 0.5637 - accuracy: 0.4056\n",
      "Epoch 17/100\n",
      "27/27 [==============================] - 0s 1ms/step - loss: 0.5630 - accuracy: 0.4056\n",
      "Epoch 18/100\n",
      "27/27 [==============================] - 0s 2ms/step - loss: 0.5624 - accuracy: 0.4056\n",
      "Epoch 19/100\n",
      "27/27 [==============================] - 0s 2ms/step - loss: 0.5619 - accuracy: 0.4056\n",
      "Epoch 20/100\n",
      "27/27 [==============================] - 0s 1ms/step - loss: 0.5615 - accuracy: 0.4056\n",
      "Epoch 21/100\n",
      "27/27 [==============================] - 0s 1ms/step - loss: 0.5611 - accuracy: 0.4056\n",
      "Epoch 22/100\n",
      "27/27 [==============================] - 0s 1ms/step - loss: 0.5608 - accuracy: 0.4056\n",
      "Epoch 23/100\n",
      "27/27 [==============================] - 0s 2ms/step - loss: 0.5605 - accuracy: 0.4056\n",
      "Epoch 24/100\n",
      "27/27 [==============================] - 0s 2ms/step - loss: 0.5603 - accuracy: 0.4056\n",
      "Epoch 25/100\n",
      "27/27 [==============================] - 0s 2ms/step - loss: 0.5600 - accuracy: 0.4044\n",
      "Epoch 26/100\n",
      "27/27 [==============================] - 0s 1ms/step - loss: 0.5599 - accuracy: 0.4033\n",
      "Epoch 27/100\n",
      "27/27 [==============================] - 0s 2ms/step - loss: 0.5597 - accuracy: 0.4033\n",
      "Epoch 28/100\n",
      "27/27 [==============================] - 0s 2ms/step - loss: 0.5595 - accuracy: 0.4021\n",
      "Epoch 29/100\n",
      "27/27 [==============================] - 0s 2ms/step - loss: 0.5594 - accuracy: 0.4021\n",
      "Epoch 30/100\n",
      "27/27 [==============================] - 0s 2ms/step - loss: 0.5593 - accuracy: 0.3998\n",
      "Epoch 31/100\n",
      "27/27 [==============================] - 0s 2ms/step - loss: 0.5592 - accuracy: 0.3998\n",
      "Epoch 32/100\n",
      "27/27 [==============================] - 0s 1ms/step - loss: 0.5591 - accuracy: 0.3998\n",
      "Epoch 33/100\n",
      "27/27 [==============================] - 0s 1ms/step - loss: 0.5590 - accuracy: 0.3998\n",
      "Epoch 34/100\n",
      "27/27 [==============================] - 0s 1ms/step - loss: 0.5589 - accuracy: 0.3998\n",
      "Epoch 35/100\n",
      "27/27 [==============================] - 0s 1ms/step - loss: 0.5588 - accuracy: 0.3986\n",
      "Epoch 36/100\n",
      "27/27 [==============================] - 0s 2ms/step - loss: 0.5587 - accuracy: 0.3986\n",
      "Epoch 37/100\n",
      "27/27 [==============================] - 0s 2ms/step - loss: 0.5587 - accuracy: 0.3986\n",
      "Epoch 38/100\n",
      "27/27 [==============================] - 0s 2ms/step - loss: 0.5586 - accuracy: 0.3974\n",
      "Epoch 39/100\n",
      "27/27 [==============================] - 0s 2ms/step - loss: 0.5585 - accuracy: 0.3974\n",
      "Epoch 40/100\n",
      "27/27 [==============================] - 0s 2ms/step - loss: 0.5585 - accuracy: 0.3963\n",
      "Epoch 41/100\n",
      "27/27 [==============================] - 0s 2ms/step - loss: 0.5584 - accuracy: 0.3963\n",
      "Epoch 42/100\n",
      "27/27 [==============================] - 0s 2ms/step - loss: 0.5584 - accuracy: 0.3963\n",
      "Epoch 43/100\n",
      "27/27 [==============================] - 0s 1ms/step - loss: 0.5583 - accuracy: 0.3963\n",
      "Epoch 44/100\n",
      "27/27 [==============================] - 0s 1ms/step - loss: 0.5583 - accuracy: 0.3939\n",
      "Epoch 45/100\n",
      "27/27 [==============================] - 0s 2ms/step - loss: 0.5583 - accuracy: 0.3939\n",
      "Epoch 46/100\n",
      "27/27 [==============================] - 0s 2ms/step - loss: 0.5582 - accuracy: 0.3928\n",
      "Epoch 47/100\n",
      "27/27 [==============================] - 0s 1ms/step - loss: 0.5582 - accuracy: 0.3928\n",
      "Epoch 48/100\n",
      "27/27 [==============================] - 0s 1ms/step - loss: 0.5581 - accuracy: 0.3916\n",
      "Epoch 49/100\n",
      "27/27 [==============================] - 0s 1ms/step - loss: 0.5581 - accuracy: 0.3916\n",
      "Epoch 50/100\n",
      "27/27 [==============================] - 0s 2ms/step - loss: 0.5581 - accuracy: 0.3904\n",
      "Epoch 51/100\n",
      "27/27 [==============================] - 0s 1ms/step - loss: 0.5581 - accuracy: 0.3893\n",
      "Epoch 52/100\n",
      "27/27 [==============================] - 0s 1ms/step - loss: 0.5580 - accuracy: 0.3893\n",
      "Epoch 53/100\n",
      "27/27 [==============================] - 0s 1ms/step - loss: 0.5580 - accuracy: 0.3893\n",
      "Epoch 54/100\n",
      "27/27 [==============================] - 0s 2ms/step - loss: 0.5580 - accuracy: 0.3869\n",
      "Epoch 55/100\n",
      "27/27 [==============================] - 0s 2ms/step - loss: 0.5580 - accuracy: 0.3869\n",
      "Epoch 56/100\n",
      "27/27 [==============================] - 0s 1ms/step - loss: 0.5579 - accuracy: 0.3858\n",
      "Epoch 57/100\n",
      "27/27 [==============================] - 0s 1ms/step - loss: 0.5579 - accuracy: 0.3858\n",
      "Epoch 58/100\n",
      "27/27 [==============================] - 0s 1ms/step - loss: 0.5579 - accuracy: 0.3858\n",
      "Epoch 59/100\n",
      "27/27 [==============================] - 0s 2ms/step - loss: 0.5579 - accuracy: 0.3846\n",
      "Epoch 60/100\n",
      "27/27 [==============================] - 0s 2ms/step - loss: 0.5579 - accuracy: 0.3834\n",
      "Epoch 61/100\n",
      "27/27 [==============================] - 0s 2ms/step - loss: 0.5578 - accuracy: 0.3834\n",
      "Epoch 62/100\n",
      "27/27 [==============================] - 0s 2ms/step - loss: 0.5578 - accuracy: 0.3834\n",
      "Epoch 63/100\n",
      "27/27 [==============================] - 0s 2ms/step - loss: 0.5578 - accuracy: 0.3834\n",
      "Epoch 64/100\n",
      "27/27 [==============================] - 0s 2ms/step - loss: 0.5578 - accuracy: 0.3834\n",
      "Epoch 65/100\n",
      "27/27 [==============================] - 0s 2ms/step - loss: 0.5578 - accuracy: 0.3834\n",
      "Epoch 66/100\n",
      "27/27 [==============================] - 0s 2ms/step - loss: 0.5578 - accuracy: 0.3834\n",
      "Epoch 67/100\n",
      "27/27 [==============================] - 0s 1ms/step - loss: 0.5577 - accuracy: 0.3823\n",
      "Epoch 68/100\n",
      "27/27 [==============================] - 0s 1ms/step - loss: 0.5577 - accuracy: 0.3811\n",
      "Epoch 69/100\n",
      "27/27 [==============================] - 0s 2ms/step - loss: 0.5577 - accuracy: 0.3800\n",
      "Epoch 70/100\n",
      "27/27 [==============================] - 0s 2ms/step - loss: 0.5577 - accuracy: 0.3800\n",
      "Epoch 71/100\n",
      "27/27 [==============================] - 0s 1ms/step - loss: 0.5577 - accuracy: 0.3800\n",
      "Epoch 72/100\n",
      "27/27 [==============================] - 0s 2ms/step - loss: 0.5577 - accuracy: 0.3788\n",
      "Epoch 73/100\n",
      "27/27 [==============================] - 0s 2ms/step - loss: 0.5577 - accuracy: 0.3788\n",
      "Epoch 74/100\n",
      "27/27 [==============================] - 0s 2ms/step - loss: 0.5577 - accuracy: 0.3788\n",
      "Epoch 75/100\n",
      "27/27 [==============================] - 0s 2ms/step - loss: 0.5576 - accuracy: 0.3788\n",
      "Epoch 76/100\n",
      "27/27 [==============================] - 0s 2ms/step - loss: 0.5576 - accuracy: 0.3788\n",
      "Epoch 77/100\n",
      "27/27 [==============================] - 0s 2ms/step - loss: 0.5576 - accuracy: 0.3788\n",
      "Epoch 78/100\n",
      "27/27 [==============================] - 0s 2ms/step - loss: 0.5576 - accuracy: 0.3788\n",
      "Epoch 79/100\n",
      "27/27 [==============================] - 0s 2ms/step - loss: 0.5576 - accuracy: 0.3788\n",
      "Epoch 80/100\n",
      "27/27 [==============================] - 0s 1ms/step - loss: 0.5576 - accuracy: 0.3776\n",
      "Epoch 81/100\n",
      "27/27 [==============================] - 0s 3ms/step - loss: 0.5576 - accuracy: 0.3776\n",
      "Epoch 82/100\n",
      "27/27 [==============================] - 0s 2ms/step - loss: 0.5576 - accuracy: 0.3765\n",
      "Epoch 83/100\n"
     ]
    },
    {
     "name": "stdout",
     "output_type": "stream",
     "text": [
      "27/27 [==============================] - 0s 2ms/step - loss: 0.5576 - accuracy: 0.3765\n",
      "Epoch 84/100\n",
      "27/27 [==============================] - 0s 1ms/step - loss: 0.5576 - accuracy: 0.3741\n",
      "Epoch 85/100\n",
      "27/27 [==============================] - 0s 1ms/step - loss: 0.5576 - accuracy: 0.3741\n",
      "Epoch 86/100\n",
      "27/27 [==============================] - 0s 1ms/step - loss: 0.5576 - accuracy: 0.3741\n",
      "Epoch 87/100\n",
      "27/27 [==============================] - 0s 1ms/step - loss: 0.5575 - accuracy: 0.3741\n",
      "Epoch 88/100\n",
      "27/27 [==============================] - 0s 1ms/step - loss: 0.5575 - accuracy: 0.3741\n",
      "Epoch 89/100\n",
      "27/27 [==============================] - 0s 1ms/step - loss: 0.5575 - accuracy: 0.3741\n",
      "Epoch 90/100\n",
      "27/27 [==============================] - 0s 1ms/step - loss: 0.5575 - accuracy: 0.3741\n",
      "Epoch 91/100\n",
      "27/27 [==============================] - 0s 1ms/step - loss: 0.5575 - accuracy: 0.3741\n",
      "Epoch 92/100\n",
      "27/27 [==============================] - 0s 2ms/step - loss: 0.5575 - accuracy: 0.3741\n",
      "Epoch 93/100\n",
      "27/27 [==============================] - 0s 1ms/step - loss: 0.5575 - accuracy: 0.3741\n",
      "Epoch 94/100\n",
      "27/27 [==============================] - 0s 1ms/step - loss: 0.5575 - accuracy: 0.3741\n",
      "Epoch 95/100\n",
      "27/27 [==============================] - 0s 1ms/step - loss: 0.5575 - accuracy: 0.3741\n",
      "Epoch 96/100\n",
      "27/27 [==============================] - 0s 1ms/step - loss: 0.5575 - accuracy: 0.3741\n",
      "Epoch 97/100\n",
      "27/27 [==============================] - 0s 1ms/step - loss: 0.5575 - accuracy: 0.3741\n",
      "Epoch 98/100\n",
      "27/27 [==============================] - 0s 1ms/step - loss: 0.5575 - accuracy: 0.3730\n",
      "Epoch 99/100\n",
      "27/27 [==============================] - 0s 2ms/step - loss: 0.5575 - accuracy: 0.3706\n",
      "Epoch 100/100\n",
      "27/27 [==============================] - 0s 2ms/step - loss: 0.5575 - accuracy: 0.3706\n"
     ]
    }
   ],
   "source": [
    "tf.keras.backend.clear_session()\n",
    "\n",
    "model = tf.keras.models.Sequential()\n",
    "model.add(tf.keras.layers.Dense(12, activation = tf.nn.relu))\n",
    "#model.add(tf.keras.layers.Dropout(rate = 0.2))\n",
    "model.add(tf.keras.layers.Dense(12, activation = tf.nn.relu ))\n",
    "#model.add(tf.keras.layers.Dropout(rate = 0.2))\n",
    "model.add(tf.keras.layers.Dense(12, activation = tf.nn.relu ))\n",
    "#model.add(tf.keras.layers.Dropout(rate = 0.2))\n",
    "model.add(tf.keras.layers.Dense(6, activation = tf.nn.relu ))\n",
    "#model.add(tf.keras.layers.Dropout(rate = 0.2))\n",
    "model.add(tf.keras.layers.Dense(6, activation = tf.nn.relu ))\n",
    "#model.add(tf.keras.layers.Dropout(rate = 0.2))\n",
    "model.add(tf.keras.layers.Dense(2, activation = 'sigmoid'))\n",
    "\n",
    "model.compile(optimizer='SGD', \n",
    "              loss='mse', \n",
    "              metrics=['accuracy'])\n",
    "\n",
    "\n",
    "training = model.fit(X_train, y_train, epochs = 100, batch_size = 32);"
   ]
  },
  {
   "cell_type": "code",
   "execution_count": 224,
   "metadata": {},
   "outputs": [
    {
     "name": "stdout",
     "output_type": "stream",
     "text": [
      "Model: \"sequential\"\n",
      "_________________________________________________________________\n",
      " Layer (type)                Output Shape              Param #   \n",
      "=================================================================\n",
      " dense (Dense)               (None, 12)                144       \n",
      "                                                                 \n",
      " dense_1 (Dense)             (None, 12)                156       \n",
      "                                                                 \n",
      " dense_2 (Dense)             (None, 12)                156       \n",
      "                                                                 \n",
      " dense_3 (Dense)             (None, 6)                 78        \n",
      "                                                                 \n",
      " dense_4 (Dense)             (None, 6)                 42        \n",
      "                                                                 \n",
      " dense_5 (Dense)             (None, 2)                 14        \n",
      "                                                                 \n",
      "=================================================================\n",
      "Total params: 590\n",
      "Trainable params: 590\n",
      "Non-trainable params: 0\n",
      "_________________________________________________________________\n"
     ]
    }
   ],
   "source": [
    "model.summary()\n"
   ]
  },
  {
   "cell_type": "code",
   "execution_count": 225,
   "metadata": {
    "scrolled": true
   },
   "outputs": [],
   "source": [
    "y_pred = model.predict(X_test)\n",
    "y_pred;"
   ]
  },
  {
   "cell_type": "code",
   "execution_count": 226,
   "metadata": {},
   "outputs": [],
   "source": [
    "y_pred = model.predict(X_test)\n",
    "y_prediction = [0]*len(y_pred)\n",
    "for i in range(len(y_pred)):\n",
    "    if y_pred[i,0] > 0.5:\n",
    "        y_prediction[i] = 1\n",
    "    else:\n",
    "        y_prediction[i] = 2\n",
    "y_prediction;"
   ]
  },
  {
   "cell_type": "code",
   "execution_count": 227,
   "metadata": {},
   "outputs": [
    {
     "data": {
      "text/plain": [
       "0.10489510744810104"
      ]
     },
     "execution_count": 227,
     "metadata": {},
     "output_type": "execute_result"
    }
   ],
   "source": [
    "val_accuracy"
   ]
  },
  {
   "cell_type": "code",
   "execution_count": 228,
   "metadata": {},
   "outputs": [
    {
     "name": "stdout",
     "output_type": "stream",
     "text": [
      "9/9 [==============================] - 0s 1ms/step - loss: 0.5143 - accuracy: 0.3951\n",
      "validation loss: 0.5142722129821777\n",
      "validation accuracy: 39.510488510131836%\n",
      "f1-Score: 65.41176470588235 %\n"
     ]
    }
   ],
   "source": [
    "val_loss, val_accuracy = model.evaluate(X_test, y_test)\n",
    "f1_Score = f1_score(y_test, y_prediction)\n",
    "\n",
    "print(\"validation loss:\", val_loss)\n",
    "print(\"validation accuracy:\", str(val_accuracy*100) +\"%\")\n",
    "\n",
    "print(\"f1-Score:\", f1_Score*100, '%')"
   ]
  },
  {
   "cell_type": "code",
   "execution_count": null,
   "metadata": {},
   "outputs": [],
   "source": []
  }
 ],
 "metadata": {
  "kernelspec": {
   "display_name": "Python 3",
   "language": "python",
   "name": "python3"
  },
  "language_info": {
   "codemirror_mode": {
    "name": "ipython",
    "version": 3
   },
   "file_extension": ".py",
   "mimetype": "text/x-python",
   "name": "python",
   "nbconvert_exporter": "python",
   "pygments_lexer": "ipython3",
   "version": "3.7.9"
  }
 },
 "nbformat": 4,
 "nbformat_minor": 4
}
